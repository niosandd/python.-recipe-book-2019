{
 "cells": [
  {
   "cell_type": "markdown",
   "id": "64cc2d37-4f63-42b8-8604-df6d3ae8375c",
   "metadata": {},
   "source": [
    "### Глава 1. Структуры данных и алгоритмы"
   ]
  },
  {
   "cell_type": "code",
   "execution_count": 6,
   "id": "f04c778d-be30-4ddc-9b4d-95cfb84d84e5",
   "metadata": {},
   "outputs": [],
   "source": [
    "import numpy as np\n",
    "import statistics\n",
    "import heapq\n",
    "from collections import deque"
   ]
  },
  {
   "cell_type": "markdown",
   "id": "a146cdcc-c648-4c63-8248-d4c3d9d8e37a",
   "metadata": {},
   "source": [
    "### 1.1. Распаковка последовательности в отдельные переменные"
   ]
  },
  {
   "cell_type": "markdown",
   "id": "deb798e0-ec99-4aee-9a96-5aad3aa493b3",
   "metadata": {},
   "source": [
    "Задача. У вас есть кортеж из N элементов или последовательность, которую вы хотите рас-\n",
    "паковать в коллекцию из N переменных."
   ]
  },
  {
   "cell_type": "code",
   "execution_count": 78,
   "id": "98c7c896-0891-4d2c-86c2-8408404e913b",
   "metadata": {},
   "outputs": [
    {
     "name": "stdout",
     "output_type": "stream",
     "text": [
      "x = 4 y = 5\n"
     ]
    }
   ],
   "source": [
    "p = (4, 5) \n",
    "x, y = p\n",
    "print(\"x =\", x, \"y =\", y)"
   ]
  },
  {
   "cell_type": "code",
   "execution_count": 86,
   "id": "f075e2b0-3bb2-4c92-a262-d54a0d8ed4fd",
   "metadata": {},
   "outputs": [
    {
     "data": {
      "text/plain": [
       "2012"
      ]
     },
     "execution_count": 88,
     "metadata": {},
     "output_type": "execute_result"
    }
   ],
   "source": [
    "data = ['ACME', 50, 91.1, (2012, 12, 21)]\n",
    "a, b, c, d = data\n",
    "x, y, z = d"
   ]
  },
  {
   "cell_type": "code",
   "execution_count": 89,
   "id": "19a33559-2783-4e92-a40e-9937079c8ca9",
   "metadata": {},
   "outputs": [
    {
     "name": "stdout",
     "output_type": "stream",
     "text": [
      "name = ACME\n",
      "shares = 50\n",
      "price = 91.1\n",
      "year = 2012\n",
      "mon = 12\n",
      "day = 21\n"
     ]
    }
   ],
   "source": [
    "name, shares, price, (year, mon, day) = data\n",
    "print(\"name =\",name)\n",
    "print(\"shares =\",shares)\n",
    "print(\"price =\",price)\n",
    "print(\"year =\",year)\n",
    "print(\"mon =\",mon)\n",
    "print(\"day =\",day)"
   ]
  },
  {
   "cell_type": "code",
   "execution_count": 90,
   "id": "091e4724-174d-453c-a096-824cc315f10a",
   "metadata": {},
   "outputs": [
    {
     "name": "stdout",
     "output_type": "stream",
     "text": [
      "a = H\n",
      "b = e\n",
      "c = l\n",
      "d = l\n",
      "e = o\n"
     ]
    }
   ],
   "source": [
    "s = \"Hello\"\n",
    "a,b,c,d,e = s\n",
    "print(\"a =\", a)\n",
    "print(\"b =\",b)\n",
    "print(\"c =\",c)\n",
    "print(\"d =\",d)\n",
    "print(\"e =\",e)"
   ]
  },
  {
   "cell_type": "code",
   "execution_count": 94,
   "id": "7ca76c8f-ab22-4344-a43b-7e49d52e456e",
   "metadata": {},
   "outputs": [
    {
     "name": "stdout",
     "output_type": "stream",
     "text": [
      "shares = 50\n",
      "price = 91.1\n"
     ]
    }
   ],
   "source": [
    "data = ['ACME', 50, 91.1, (2012, 12, 21) ]\n",
    "_, shares, price, _ = data\n",
    "print(\"shares =\", shares)\n",
    "print(\"price =\", price)"
   ]
  },
  {
   "cell_type": "markdown",
   "id": "f8a694f5-eec1-452a-9846-daa226d88a91",
   "metadata": {},
   "source": [
    "### 1.2. Распаковка элементов из последовательностей произвольной длины"
   ]
  },
  {
   "cell_type": "markdown",
   "id": "5fa2b8dc-de51-4de2-a33a-8b1e60b18771",
   "metadata": {},
   "source": [
    "Задача. Вам нужно распаковать N элементов из итерируемого объекта, но этот объект мо-\n",
    "жет содержать больше N элементов, что вызывает исключение «too many values to\n",
    "unpack» («слишком много значений для распаковки»)."
   ]
  },
  {
   "cell_type": "markdown",
   "id": "54d9d8ba-49ea-44d5-b372-74bb3290f831",
   "metadata": {},
   "source": [
    "Для решения этой задачи можно использовать «выражения со звездочкой». Пред-\n",
    "положим, например, что вы ведете учебный курс. В конце семестра вы решаете,\n",
    "что не будете принимать во внимание оценки за первое и последнее домашние\n",
    "задания, а по остальным оценкам посчитаете среднее значение. Если у вас было\n",
    "четыре задания, то можно просто распаковать все четыре. Но что делать, если их\n",
    "24? Выражение со звездочкой позволит легко решить эту задачу:"
   ]
  },
  {
   "cell_type": "code",
   "execution_count": 78,
   "id": "15461104-270d-46c1-9c7e-955c628f699c",
   "metadata": {},
   "outputs": [
    {
     "data": {
      "text/plain": [
       "4.5"
      ]
     },
     "execution_count": 78,
     "metadata": {},
     "output_type": "execute_result"
    }
   ],
   "source": [
    "a = [2,4,5,2]\n",
    "def drop_first_last(grades):\n",
    "    first, *middle, last = grades\n",
    "    return np.mean(middle)\n",
    "\n",
    "drop_first_last(a)"
   ]
  },
  {
   "cell_type": "markdown",
   "id": "35fd270a-c1a5-43a0-a195-306f1fed3373",
   "metadata": {},
   "source": [
    "Рассмотрим еще один пример: предположим, что у вас есть записи о пользова-\n",
    "телях, которые состоят из имени и адреса электронной почты, за которыми следу-\n",
    "ет произвольное количество телефонных номеров. Вы можете распаковать записи\n",
    "так:"
   ]
  },
  {
   "cell_type": "code",
   "execution_count": 77,
   "id": "a8e4efd3-12ee-47f9-8a2c-74d7c7985273",
   "metadata": {},
   "outputs": [
    {
     "data": {
      "text/plain": [
       "['773-555-1212', '847-555-1212']"
      ]
     },
     "execution_count": 77,
     "metadata": {},
     "output_type": "execute_result"
    }
   ],
   "source": [
    "record = ('Dave', 'dave@example.com', '773-555-1212', '847-555-1212', 'abc')\n",
    "name, email, *phone_numbers, tmp = record\n",
    "phone_numbers"
   ]
  },
  {
   "cell_type": "markdown",
   "id": "74721e4f-987b-49aa-a937-7a97ede61a51",
   "metadata": {},
   "source": [
    "Переменная со звездочкой также может быть первой в списке. Например, у вас\n",
    "есть последовательность значений, представляющая продажи вашей компании за\n",
    "последние восемь кварталов. Если вы хотите посмотреть, как последний квартал\n",
    "соотносится со средним значением по первым семи, вы можете сделать так:"
   ]
  },
  {
   "cell_type": "code",
   "execution_count": 79,
   "id": "4ecc7855-2b8e-4f98-b294-0a5648ee5397",
   "metadata": {},
   "outputs": [
    {
     "data": {
      "text/plain": [
       "(7.142857142857143, 3)"
      ]
     },
     "execution_count": 79,
     "metadata": {},
     "output_type": "execute_result"
    }
   ],
   "source": [
    "sales_record = [10, 8, 7, 1, 9, 5, 10, 3]\n",
    "def unpack_sales(sales):\n",
    "    *trailing_qtrs, current_qtr = sales\n",
    "    trailing_avg = sum(trailing_qtrs) / len(trailing_qtrs)\n",
    "    \n",
    "    return np.mean(trailing_avg), current_qtr\n",
    "\n",
    "unpack_sales(sales_record)"
   ]
  },
  {
   "cell_type": "markdown",
   "id": "3cdfca73-5a3a-435c-a917-d434c305f77b",
   "metadata": {},
   "source": [
    "Расширенная распаковка отлично подходит для распаковки итерируемых объек-\n",
    "тов неизвестной или произвольной длины. Часто эти объекты имеют некоторые\n",
    "известные элементы или шаблоны (например, «все, что после элемента 1, явля-\n",
    "ется телефонным номером»). Распаковка со звездочкой позволяет программисту\n",
    "легко использовать эти шаблоны – вместо того чтобы исполнять акробатические\n",
    "трюки для извлечения нужных элементов из итерируемого объекта.\n",
    "Стоит отметить, что синтаксис звездочки может быть особенно полезен при\n",
    "итерировании по последовательности кортежей переменной длины. Например,\n",
    "возможна такая последовательность кортежей с тегами:"
   ]
  },
  {
   "cell_type": "code",
   "execution_count": 63,
   "id": "5f07f11e-4f2d-485b-91bd-b2f9a15bfd97",
   "metadata": {},
   "outputs": [
    {
     "name": "stdout",
     "output_type": "stream",
     "text": [
      "foo 1 2\n",
      "bar hello\n",
      "foo 3 4\n"
     ]
    }
   ],
   "source": [
    "records = [\n",
    "    ('foo', 1, 2),\n",
    "    ('bar', 'hello'),\n",
    "    ('foo', 3, 4),\n",
    "]\n",
    "\n",
    "def do_foo(x, y):\n",
    "    print('foo', x, y)\n",
    "    \n",
    "def do_bar(s):\n",
    "    print('bar', s)\n",
    "    \n",
    "for tag, *args in records:\n",
    "    if tag == 'foo':\n",
    "        do_foo(*args)\n",
    "    elif tag == 'bar':\n",
    "        do_bar(*args)"
   ]
  },
  {
   "cell_type": "markdown",
   "id": "c950c123-279c-4d03-8060-13661bf4748b",
   "metadata": {},
   "source": [
    "Распаковка со звездочкой также может быть полезна в комбинации с опера\n",
    "циями обработки строк, такими как разрезание. Например:"
   ]
  },
  {
   "cell_type": "code",
   "execution_count": 80,
   "id": "7758bfe0-c45e-4e37-8828-faf77ecace48",
   "metadata": {},
   "outputs": [
    {
     "name": "stdout",
     "output_type": "stream",
     "text": [
      "РаспаковОчка=  ['nobody', '*', '-2', '-2', 'Unprivileged User', '/var/empty', '/usr/bin/false']\n",
      "-----------------------\n",
      "uname = nobody\n",
      "fields = ['*', '-2', '-2', 'Unprivileged User']\n",
      "homedir = /var/empty\n",
      "sh = /usr/bin/false\n"
     ]
    }
   ],
   "source": [
    "line = 'nobody:*:-2:-2:Unprivileged User:/var/empty:/usr/bin/false'\n",
    "uname, *fields, homedir, sh = line.split(':')\n",
    "print(\"РаспаковОчка= \", line.split(\":\"))\n",
    "print(\"-----------------------\")\n",
    "\n",
    "print(\"uname =\", uname)\n",
    "print(\"fields =\", fields)\n",
    "print(\"homedir =\", homedir)\n",
    "print(\"sh =\", sh)"
   ]
  },
  {
   "cell_type": "markdown",
   "id": "8e859b90-ae34-41a2-b1ea-d2220a300abd",
   "metadata": {},
   "source": [
    "Иногда вам может быть нужно распаковать значения и отбросить их. Вы не мо-\n",
    "жете просто определить голую * при распаковке, но можно использовать обычное\n",
    "для отбрасывания имя переменной, такое как _ или ign (ignored). Например:"
   ]
  },
  {
   "cell_type": "code",
   "execution_count": 81,
   "id": "1345ae6a-c389-4ed8-9bb7-07511a5fce80",
   "metadata": {},
   "outputs": [
    {
     "name": "stdout",
     "output_type": "stream",
     "text": [
      "name = ACME\n",
      "all = [50, 123.45]\n",
      "year = 2012\n"
     ]
    }
   ],
   "source": [
    "record = ('ACME', 50, 123.45, (12, 18, 2012))\n",
    "name, *all, (*_, year) = record\n",
    "\n",
    "print(\"name =\", name)\n",
    "print(\"all =\", all)\n",
    "print(\"year =\", year)"
   ]
  },
  {
   "cell_type": "markdown",
   "id": "b3b92575-7b27-4ee6-94c4-ffb7ebc9bba2",
   "metadata": {},
   "source": [
    "Есть некоторое сходство между распаковкой со звездочкой и обработкой спис\n",
    "ков в функциональных языках. Например, если у вас есть список, то вы можете\n",
    "легко разделить его на «хвост» и «голову»:"
   ]
  },
  {
   "cell_type": "code",
   "execution_count": 82,
   "id": "d08f54e7-8643-4400-90bf-bf5684c0e3b8",
   "metadata": {},
   "outputs": [
    {
     "name": "stdout",
     "output_type": "stream",
     "text": [
      "head = 1\n",
      "tail = [10, 7, 4, 5, 9]\n"
     ]
    }
   ],
   "source": [
    "items = [1, 10, 7, 4, 5, 9]\n",
    "head, *tail = items\n",
    "print(\"head =\", head)\n",
    "print(\"tail =\", tail)"
   ]
  },
  {
   "cell_type": "markdown",
   "id": "64c90f3f-ab84-49a5-835b-a74fc74dee35",
   "metadata": {},
   "source": [
    "Можно представить себе функцию, которая произведет такое разрезание с помощью хитрого рекурсивного алгоритма. Например:"
   ]
  },
  {
   "cell_type": "code",
   "execution_count": 83,
   "id": "e375e992-3805-42ac-a6f6-7270964b2316",
   "metadata": {},
   "outputs": [
    {
     "data": {
      "text/plain": [
       "36"
      ]
     },
     "execution_count": 83,
     "metadata": {},
     "output_type": "execute_result"
    }
   ],
   "source": [
    "def sum_(items):\n",
    "    head, *tail = items\n",
    "    return head + sum(tail) if tail else head\n",
    "\n",
    "sum_(items)"
   ]
  },
  {
   "cell_type": "markdown",
   "id": "0dda9957-8a00-434c-b3e8-31b00a97d838",
   "metadata": {},
   "source": [
    "### 1.3. оставляем N последних элементов"
   ]
  },
  {
   "cell_type": "code",
   "execution_count": 103,
   "id": "313048fd-d1c2-4c6f-b3ae-b04d331434f4",
   "metadata": {},
   "outputs": [],
   "source": [
    "from collections import deque"
   ]
  },
  {
   "cell_type": "code",
   "execution_count": 66,
   "id": "a2e297fa-bbfa-45cf-85db-afaa1610960a",
   "metadata": {},
   "outputs": [],
   "source": [
    "# Задача хранения ограниченной истории – отличный повод применить collections.\n",
    "# deque. Например, следующий фрагмент кода производит простое сопоставление \n",
    "# текста с последовательностью строк, а при совпадении выдает совпавшие строки \n",
    "# вместе с N предыдущими строками контекста:"
   ]
  },
  {
   "cell_type": "code",
   "execution_count": 174,
   "id": "f9395744-f0f0-40bd-a8f8-b605506b0d4d",
   "metadata": {},
   "outputs": [],
   "source": [
    "def search(lines, pattern, history=5):\n",
    "    previous_lines = deque(maxlen=history)\n",
    "    for line in lines:\n",
    "        if pattern in line:\n",
    "            yield line, previous_lines\n",
    "        previous_lines.append(line)"
   ]
  },
  {
   "cell_type": "code",
   "execution_count": 175,
   "id": "d01ad35d-8d2e-45c3-b253-201d719f3fc6",
   "metadata": {},
   "outputs": [
    {
     "name": "stdout",
     "output_type": "stream",
     "text": [
      "python\n",
      "--------------------\n",
      "python\n",
      "python\n",
      "--------------------\n",
      "python\n",
      "python\n",
      "pypypyrgregerberpython\n",
      "--------------------\n",
      "python\n",
      "python\n",
      "pypypyrgregerberpython\n",
      "abdbabpython\n",
      "--------------------\n",
      "python\n",
      "python\n",
      "pypypyrgregerberpython\n",
      "abdbabpython\n",
      "asfasfd\n",
      "python\n",
      "--------------------\n",
      "pypypyrgregerberpython\n",
      "abdbabpython\n",
      "asfasfd\n",
      "python\n",
      "asfasfd\n",
      "python\n",
      "--------------------\n",
      "abdbabpython\n",
      "asfasfd\n",
      "python\n",
      "asfasfd\n",
      "python\n",
      "python\n",
      "--------------------\n"
     ]
    }
   ],
   "source": [
    "# Пример использования\n",
    "if __name__ == '__main__':\n",
    "    with open('somefile.txt') as f:\n",
    "        for line, prevlines in search(f, 'python', 5):\n",
    "            for pline in prevlines:\n",
    "                print(pline, end='')\n",
    "            print(line, end='')\n",
    "            print('-'*20)"
   ]
  },
  {
   "cell_type": "markdown",
   "id": "fd97262d-3665-4936-9a64-00379da7b4e0",
   "metadata": {},
   "source": [
    "Класс collections.deque() это обобщение стеков и очередей и представляет собой двустороннюю очередь. Двусторонняя очередь deque() поддерживает поточно-ориентированные, эффективные по памяти операции добавления и извлечения элементов последовательности с любой стороны с примерно одинаковой производительностью в любом направлении."
   ]
  },
  {
   "cell_type": "markdown",
   "id": "85aa9126-06f0-49f1-9821-4a45b7365d29",
   "metadata": {},
   "source": [
    ": deque может быть использована в любом случае, когда вам нужна простая очередь. \n",
    "Если вы не зададите максимальную длину, то получите бесконечную очередь, которая позволит вам добавлять и  удалять элементы с  обоих концов."
   ]
  },
  {
   "cell_type": "code",
   "execution_count": 159,
   "id": "ed117046-9e50-4104-a578-745776aa2362",
   "metadata": {},
   "outputs": [],
   "source": [
    "q = deque(maxlen=5)"
   ]
  },
  {
   "cell_type": "code",
   "execution_count": 166,
   "id": "832f1663-aab4-4a34-b49f-43073ab7a493",
   "metadata": {},
   "outputs": [
    {
     "data": {
      "text/plain": [
       "deque([1, 2, 3, 4, 5])"
      ]
     },
     "execution_count": 166,
     "metadata": {},
     "output_type": "execute_result"
    }
   ],
   "source": [
    "q.append(1)\n",
    "q.append(2)\n",
    "q.append(3)\n",
    "q.append(4)\n",
    "q.append(5)\n",
    "q"
   ]
  },
  {
   "cell_type": "code",
   "execution_count": 169,
   "id": "901d6f96-de98-4d71-bfc2-f822023283de",
   "metadata": {},
   "outputs": [
    {
     "data": {
      "text/plain": [
       "deque([2, 3, 4, 5, 6])"
      ]
     },
     "execution_count": 169,
     "metadata": {},
     "output_type": "execute_result"
    }
   ],
   "source": [
    "q.append(6)\n",
    "q"
   ]
  },
  {
   "cell_type": "code",
   "execution_count": 170,
   "id": "4074f74b-c1be-44bc-92c3-0fa3f8d90265",
   "metadata": {},
   "outputs": [
    {
     "data": {
      "text/plain": [
       "deque([7, 2, 3, 4, 5])"
      ]
     },
     "execution_count": 170,
     "metadata": {},
     "output_type": "execute_result"
    }
   ],
   "source": [
    "q.appendleft(7)\n",
    "q"
   ]
  },
  {
   "cell_type": "code",
   "execution_count": 171,
   "id": "1ec44a49-0c95-46e8-a4e5-92e3e6b1d22e",
   "metadata": {},
   "outputs": [
    {
     "data": {
      "text/plain": [
       "5"
      ]
     },
     "execution_count": 171,
     "metadata": {},
     "output_type": "execute_result"
    }
   ],
   "source": [
    "q.pop()"
   ]
  },
  {
   "cell_type": "code",
   "execution_count": 172,
   "id": "f1a8a149-2534-49dd-bd58-c971aeceb884",
   "metadata": {},
   "outputs": [
    {
     "data": {
      "text/plain": [
       "7"
      ]
     },
     "execution_count": 172,
     "metadata": {},
     "output_type": "execute_result"
    }
   ],
   "source": [
    "q.popleft()"
   ]
  },
  {
   "cell_type": "code",
   "execution_count": 173,
   "id": "85936621-d173-4db9-8e03-b8f40bba03f5",
   "metadata": {},
   "outputs": [
    {
     "data": {
      "text/plain": [
       "deque([2, 3, 4])"
      ]
     },
     "execution_count": 173,
     "metadata": {},
     "output_type": "execute_result"
    }
   ],
   "source": [
    "q"
   ]
  },
  {
   "cell_type": "markdown",
   "id": "be52da94-2249-42de-a093-afbd67f9136c",
   "metadata": {},
   "source": [
    "### 1.4. Поиск N максимальных и минимальных элементов nlargest() и nsmallest()"
   ]
  },
  {
   "cell_type": "code",
   "execution_count": 28,
   "id": "0f6eaa54-3762-4b61-8de5-fbfe2789012e",
   "metadata": {},
   "outputs": [],
   "source": [
    "import heapq\n",
    "from heapq import *"
   ]
  },
  {
   "cell_type": "code",
   "execution_count": 29,
   "id": "692d62fb-acbe-4592-98a7-ebb544e3a3da",
   "metadata": {},
   "outputs": [
    {
     "name": "stdout",
     "output_type": "stream",
     "text": [
      "[42, 37, 23]\n",
      "[-4, 1, 2]\n"
     ]
    }
   ],
   "source": [
    "nums = [1, 8, 2, 23, 7, -4, 18, 23, 42, 37, 2]\n",
    "print(heapq.nlargest(3, nums)) # Выведет [42, 37, 23]\n",
    "print(heapq.nsmallest(3, nums)) # Выведет [-4, 1, 2]"
   ]
  },
  {
   "cell_type": "code",
   "execution_count": 31,
   "id": "c6ac3d71-b4c2-4d87-8bcd-478a7e7dbd92",
   "metadata": {},
   "outputs": [
    {
     "name": "stdout",
     "output_type": "stream",
     "text": [
      "Дорогой :  [{'name': 'AAPL', 'shares': 50, 'price': 543.22}, {'name': 'ACME', 'shares': 75, 'price': 115.65}, {'name': 'IBM', 'shares': 100, 'price': 91.1}]\n",
      "Дешёвый :  [{'name': 'YHOO', 'shares': 45, 'price': 16.35}, {'name': 'FB', 'shares': 200, 'price': 21.09}, {'name': 'HPQ', 'shares': 35, 'price': 31.75}]\n"
     ]
    }
   ],
   "source": [
    "portfolio = [\n",
    " {'name': 'IBM', 'shares': 100, 'price': 91.1},\n",
    " {'name': 'AAPL', 'shares': 50, 'price': 543.22},\n",
    " {'name': 'FB', 'shares': 200, 'price': 21.09},\n",
    " {'name': 'HPQ', 'shares': 35, 'price': 31.75},\n",
    " {'name': 'YHOO', 'shares': 45, 'price': 16.35},\n",
    " {'name': 'ACME', 'shares': 75, 'price': 115.65}\n",
    "]\n",
    "cheap = heapq.nsmallest(3, portfolio, key=lambda s: s['price'])\n",
    "expensive = heapq.nlargest(3, portfolio, key=lambda s: s['price'])\n",
    "\n",
    "print(\"Дорогой : \", expensive)\n",
    "print(\"Дешёвый : \", cheap)"
   ]
  },
  {
   "cell_type": "code",
   "execution_count": 32,
   "id": "2878245e-f5bc-497a-8b09-b61bbfa9fed0",
   "metadata": {},
   "outputs": [
    {
     "name": "stdout",
     "output_type": "stream",
     "text": [
      "list:  [1, 8, 2, 23, 7, -4, 18, 23, 42, 37, 2]\n"
     ]
    },
    {
     "data": {
      "text/plain": [
       "[-4, 2, 1, 23, 7, 2, 18, 23, 42, 37, 8]"
      ]
     },
     "execution_count": 32,
     "metadata": {},
     "output_type": "execute_result"
    }
   ],
   "source": [
    "nums = [1, 8, 2, 23, 7, -4, 18, 23, 42, 37, 2]\n",
    "heap = list(nums)\n",
    "print(\"list: \", heap)\n",
    "heapq.heapify(heap) #Функция heapify() модуля heapq преобразовывает список x в кучу на месте за линейное время.\n",
    "heap"
   ]
  },
  {
   "cell_type": "code",
   "execution_count": 33,
   "id": "8165182e-ca00-4903-b00e-dc21199c3d46",
   "metadata": {},
   "outputs": [
    {
     "data": {
      "text/plain": [
       "-4"
      ]
     },
     "execution_count": 33,
     "metadata": {},
     "output_type": "execute_result"
    }
   ],
   "source": [
    "heapq.heappop(heap)"
   ]
  },
  {
   "cell_type": "code",
   "execution_count": 34,
   "id": "8cba1f04-bbaf-4212-b0ca-b912fc162d6f",
   "metadata": {},
   "outputs": [
    {
     "data": {
      "text/plain": [
       "1"
      ]
     },
     "execution_count": 34,
     "metadata": {},
     "output_type": "execute_result"
    }
   ],
   "source": [
    "heapq.heappop(heap)"
   ]
  },
  {
   "cell_type": "code",
   "execution_count": 35,
   "id": "1ff2db1e-1d69-46aa-b808-3af6a227b55d",
   "metadata": {},
   "outputs": [
    {
     "data": {
      "text/plain": [
       "2"
      ]
     },
     "execution_count": 35,
     "metadata": {},
     "output_type": "execute_result"
    }
   ],
   "source": [
    "heapq.heappop(heap)"
   ]
  },
  {
   "cell_type": "code",
   "execution_count": 36,
   "id": "7b719b3b-3d9c-401e-8b79-184a0c2a2f46",
   "metadata": {},
   "outputs": [
    {
     "data": {
      "text/plain": [
       "[2, 7, 8, 23, 42, 37, 18, 23]"
      ]
     },
     "execution_count": 36,
     "metadata": {},
     "output_type": "execute_result"
    }
   ],
   "source": [
    "heap"
   ]
  },
  {
   "cell_type": "markdown",
   "id": "4cd355fe-ca4e-4a65-ba31-02146ba5a2bc",
   "metadata": {},
   "source": [
    "### 1.5. Реализация очереди с приоритетом"
   ]
  },
  {
   "cell_type": "code",
   "execution_count": 32,
   "id": "a5aedcb4-f5c2-472f-90d8-9f8439ea14e2",
   "metadata": {},
   "outputs": [],
   "source": [
    "import heapq"
   ]
  },
  {
   "cell_type": "code",
   "execution_count": 33,
   "id": "6c65418a-e2a2-4e6c-8a6c-f58ed3aa2385",
   "metadata": {},
   "outputs": [],
   "source": [
    "class PriorityQueue:\n",
    "    \n",
    "    def __init__(self):\n",
    "        self._queue = []\n",
    "        self._index = 0\n",
    "    \n",
    "    def push(self, item, priority):\n",
    "        heapq.heappush(self._queue, (-priority, self._index, item))\n",
    "        self._index += 1\n",
    "    \n",
    "    def pop(self):\n",
    "        return heapq.heappop(self._queue)[-1]\n",
    "\n",
    "    \n",
    "class Item:\n",
    "    def __init__(self, name):\n",
    "        self.name = name\n",
    "    def __repr__(self):\n",
    "        return 'Item({!r})'.format(self.name)"
   ]
  },
  {
   "cell_type": "code",
   "execution_count": 34,
   "id": "aedc6bc7-95ca-47e2-9835-7148a25dada1",
   "metadata": {},
   "outputs": [],
   "source": [
    "q = PriorityQueue()\n",
    "q.push(Item('foo'), 1)\n",
    "q.push(Item('bar'), 5)\n",
    "q.push(Item('spam'), 4)\n",
    "q.push(Item('grok'), 1)"
   ]
  },
  {
   "cell_type": "code",
   "execution_count": 35,
   "id": "f3ba90a0-0f1d-4453-bebf-01620f2fa3f1",
   "metadata": {},
   "outputs": [
    {
     "data": {
      "text/plain": [
       "Item('grok')"
      ]
     },
     "execution_count": 35,
     "metadata": {},
     "output_type": "execute_result"
    }
   ],
   "source": [
    "q.pop()\n",
    "# Item('bar')\n",
    "q.pop()\n",
    "# Item('spam')\n",
    "q.pop()\n",
    "# Item('foo')\n",
    "q.pop()\n",
    "# Item('grok')"
   ]
  },
  {
   "cell_type": "code",
   "execution_count": 36,
   "id": "82eb264a-572b-48d6-9847-f8f3ceb1fdc0",
   "metadata": {},
   "outputs": [
    {
     "data": {
      "text/plain": [
       "True"
      ]
     },
     "execution_count": 36,
     "metadata": {},
     "output_type": "execute_result"
    }
   ],
   "source": [
    "# (priority, item)\n",
    "a = (1, Item('foo'))\n",
    "b = (5, Item('bar'))\n",
    "a < b"
   ]
  },
  {
   "cell_type": "code",
   "execution_count": 38,
   "id": "70c7bb5b-271d-4245-a291-76e2735b15d8",
   "metadata": {},
   "outputs": [
    {
     "ename": "TypeError",
     "evalue": "'<' not supported between instances of 'Item' and 'Item'",
     "output_type": "error",
     "traceback": [
      "\u001b[1;31m---------------------------------------------------------------------------\u001b[0m",
      "\u001b[1;31mTypeError\u001b[0m                                 Traceback (most recent call last)",
      "Input \u001b[1;32mIn [38]\u001b[0m, in \u001b[0;36m<cell line: 2>\u001b[1;34m()\u001b[0m\n\u001b[0;32m      1\u001b[0m c \u001b[38;5;241m=\u001b[39m (\u001b[38;5;241m1\u001b[39m, Item(\u001b[38;5;124m'\u001b[39m\u001b[38;5;124mgrok\u001b[39m\u001b[38;5;124m'\u001b[39m))\n\u001b[1;32m----> 2\u001b[0m \u001b[43ma\u001b[49m\u001b[43m \u001b[49m\u001b[38;5;241;43m<\u001b[39;49m\u001b[43m \u001b[49m\u001b[43mc\u001b[49m\n",
      "\u001b[1;31mTypeError\u001b[0m: '<' not supported between instances of 'Item' and 'Item'"
     ]
    }
   ],
   "source": [
    "c = (1, Item('grok'))\n",
    "a < c"
   ]
  },
  {
   "cell_type": "code",
   "execution_count": 39,
   "id": "3cd0464c-8457-451d-93da-77dacc295456",
   "metadata": {},
   "outputs": [
    {
     "data": {
      "text/plain": [
       "True"
      ]
     },
     "execution_count": 39,
     "metadata": {},
     "output_type": "execute_result"
    }
   ],
   "source": [
    "# (priority, index, item)\n",
    "a = (1, 0, Item('foo'))\n",
    "b = (5, 1, Item('bar'))\n",
    "c = (1, 2, Item('grok'))\n",
    "a < b"
   ]
  },
  {
   "cell_type": "code",
   "execution_count": 40,
   "id": "b3ae2b13-3bdd-4140-891e-65a6d5cfde9a",
   "metadata": {},
   "outputs": [
    {
     "data": {
      "text/plain": [
       "True"
      ]
     },
     "execution_count": 40,
     "metadata": {},
     "output_type": "execute_result"
    }
   ],
   "source": [
    "a < c"
   ]
  },
  {
   "cell_type": "markdown",
   "id": "3d170b30-72db-45ad-9a2d-fda82dd34719",
   "metadata": {},
   "source": [
    "### 1.6. Отображение ключей на несколько значений в словаре"
   ]
  },
  {
   "cell_type": "code",
   "execution_count": 41,
   "id": "f848222c-3c62-4732-8d1a-8f780745c984",
   "metadata": {},
   "outputs": [],
   "source": [
    "from collections import defaultdict"
   ]
  },
  {
   "cell_type": "code",
   "execution_count": 42,
   "id": "b55697fe-2b95-49a0-8270-4b4c81e78910",
   "metadata": {},
   "outputs": [],
   "source": [
    "d = {\n",
    " 'a' : [1, 2, 3],\n",
    " 'b' : [4, 5]\n",
    "}\n",
    "\n",
    "e = {\n",
    " 'a' : {1, 2, 3},\n",
    " 'b' : {4, 5}\n",
    "}"
   ]
  },
  {
   "cell_type": "code",
   "execution_count": 43,
   "id": "1e0afa25-b6bb-48c3-97ec-ffd2510ee347",
   "metadata": {},
   "outputs": [],
   "source": [
    "d = defaultdict(list)\n",
    "d['a'].append(1)\n",
    "d['a'].append(2)\n",
    "d['b'].append(4)"
   ]
  },
  {
   "cell_type": "code",
   "execution_count": 3,
   "id": "166fae96-bdcf-46a6-89dd-2f26f2806000",
   "metadata": {},
   "outputs": [
    {
     "data": {
      "text/plain": [
       "defaultdict(list, {'a': [1, 2], 'b': [4]})"
      ]
     },
     "execution_count": 3,
     "metadata": {},
     "output_type": "execute_result"
    }
   ],
   "source": [
    "d"
   ]
  },
  {
   "cell_type": "code",
   "execution_count": 44,
   "id": "e816914b-e0f2-4ed4-a8d3-7dc2dabe5790",
   "metadata": {},
   "outputs": [],
   "source": [
    "d = defaultdict(set)\n",
    "d['a'].add(1)\n",
    "d['a'].add(2)\n",
    "d['b'].add(4)"
   ]
  },
  {
   "cell_type": "code",
   "execution_count": 5,
   "id": "0e47b3b0-647f-4db6-9da7-c3af80a34b0b",
   "metadata": {},
   "outputs": [
    {
     "data": {
      "text/plain": [
       "defaultdict(set, {'a': {1, 2}, 'b': {4}})"
      ]
     },
     "execution_count": 5,
     "metadata": {},
     "output_type": "execute_result"
    }
   ],
   "source": [
    "d"
   ]
  },
  {
   "cell_type": "code",
   "execution_count": 45,
   "id": "0d923fe3-fcd0-4139-9c70-f45fa6e2fee5",
   "metadata": {},
   "outputs": [],
   "source": [
    "d = {} # Обычный словарь\n",
    "d.setdefault('a', []).append(1)\n",
    "d.setdefault('a', []).append(2)\n",
    "d.setdefault('b', []).append(4)"
   ]
  },
  {
   "cell_type": "code",
   "execution_count": 15,
   "id": "dca7ad09-e331-4386-b28b-6384fb8d4e64",
   "metadata": {},
   "outputs": [
    {
     "data": {
      "text/plain": [
       "{'a': [1, 2], 'b': [4]}"
      ]
     },
     "execution_count": 15,
     "metadata": {},
     "output_type": "execute_result"
    }
   ],
   "source": [
    "d"
   ]
  },
  {
   "cell_type": "code",
   "execution_count": 46,
   "id": "cc3b6a75-6d29-45ab-bd8a-1a0aeb48288a",
   "metadata": {},
   "outputs": [
    {
     "data": {
      "text/plain": [
       "{'a': [1, 3], 'b': [2, 4], 'c': [5]}"
      ]
     },
     "execution_count": 46,
     "metadata": {},
     "output_type": "execute_result"
    }
   ],
   "source": [
    "pairs = [('a', 1), ('b', 2), ('a', 3), ('b', 4), ('c', 5)]\n",
    "d = {}\n",
    "for key, value in pairs:\n",
    "    if key not in d:\n",
    "        d[key] = []\n",
    "    d[key].append(value)\n",
    "    \n",
    "d"
   ]
  },
  {
   "cell_type": "code",
   "execution_count": 47,
   "id": "7b1c7b9f-1f20-4e77-aa56-6879dc76c92e",
   "metadata": {},
   "outputs": [
    {
     "data": {
      "text/plain": [
       "defaultdict(list, {'a': [1, 3], 'b': [2, 4], 'c': [5]})"
      ]
     },
     "execution_count": 47,
     "metadata": {},
     "output_type": "execute_result"
    }
   ],
   "source": [
    "pairs = [('a', 1), ('b', 2), ('a', 3), ('b', 4), ('c', 5)]\n",
    "d = defaultdict(list)\n",
    "for key, value in pairs:\n",
    "    d[key].append(value)\n",
    "d"
   ]
  },
  {
   "cell_type": "markdown",
   "id": "7660c9ab-9961-4a07-ad84-cff386d32f16",
   "metadata": {},
   "source": [
    "### 1.7. Поддержание порядка в словарях"
   ]
  },
  {
   "cell_type": "code",
   "execution_count": 68,
   "id": "f7667182-323f-49ba-b0b0-d6414a245f90",
   "metadata": {},
   "outputs": [],
   "source": [
    "from collections import OrderedDict\n",
    "import json"
   ]
  },
  {
   "cell_type": "code",
   "execution_count": 69,
   "id": "a02afe86-5215-47a4-8e67-95c994339207",
   "metadata": {},
   "outputs": [
    {
     "data": {
      "text/plain": [
       "OrderedDict([('foo', 1), ('bar', 2), ('spam', 3), ('grok', 4)])"
      ]
     },
     "execution_count": 69,
     "metadata": {},
     "output_type": "execute_result"
    }
   ],
   "source": [
    "d = OrderedDict()\n",
    "d['foo'] = 1\n",
    "d['bar'] = 2\n",
    "d['spam'] = 3\n",
    "d['grok'] = 4\n",
    "d"
   ]
  },
  {
   "cell_type": "code",
   "execution_count": 70,
   "id": "53d1aedc-02fd-4738-b84b-1ecf8d83f91a",
   "metadata": {},
   "outputs": [
    {
     "name": "stdout",
     "output_type": "stream",
     "text": [
      "foo 1\n",
      "bar 2\n",
      "spam 3\n",
      "grok 4\n"
     ]
    }
   ],
   "source": [
    "for key in d:\n",
    "    print(key, d[key])"
   ]
  },
  {
   "cell_type": "code",
   "execution_count": 71,
   "id": "42d7a8c5-0047-4d5e-ae35-8655234b2b74",
   "metadata": {},
   "outputs": [
    {
     "data": {
      "text/plain": [
       "'{\"foo\": 1, \"bar\": 2, \"spam\": 3, \"grok\": 4}'"
      ]
     },
     "execution_count": 71,
     "metadata": {},
     "output_type": "execute_result"
    }
   ],
   "source": [
    "json.dumps(d)"
   ]
  },
  {
   "cell_type": "markdown",
   "id": "00a73b0f-0aa2-4045-9246-0853ea2e71be",
   "metadata": {},
   "source": [
    "### 1.8. Вычисления со словарями"
   ]
  },
  {
   "cell_type": "code",
   "execution_count": 92,
   "id": "b96048d4-dee9-495f-b2da-b99ed63aef33",
   "metadata": {},
   "outputs": [],
   "source": [
    "prices = {\n",
    " 'ACME': 45.23,\n",
    " 'AAPL': 612.78,\n",
    " 'IBM': 205.55,\n",
    " 'HPQ': 37.20,\n",
    " 'FB': 10.75\n",
    "}"
   ]
  },
  {
   "cell_type": "code",
   "execution_count": 93,
   "id": "bba901ce-9918-416c-96e4-cb6351d1bc6f",
   "metadata": {},
   "outputs": [],
   "source": [
    "min_price = min(zip(prices.values(), prices.keys()))\n",
    "# min_price – (10.75, 'FB')\n",
    "max_price = max(zip(prices.values(), prices.keys()))\n",
    "# max_price – (612.78, 'AAPL')"
   ]
  },
  {
   "cell_type": "code",
   "execution_count": 94,
   "id": "e73585a2-88fe-49a4-b5c4-a839c55dd88c",
   "metadata": {},
   "outputs": [
    {
     "data": {
      "text/plain": [
       "[(10.75, 'FB'),\n",
       " (37.2, 'HPQ'),\n",
       " (45.23, 'ACME'),\n",
       " (205.55, 'IBM'),\n",
       " (612.78, 'AAPL')]"
      ]
     },
     "execution_count": 94,
     "metadata": {},
     "output_type": "execute_result"
    }
   ],
   "source": [
    "prices_sorted = sorted(zip(prices.values(), prices.keys()))\n",
    "# prices_sorted – [(10.75, 'FB'), (37.2, 'HPQ'),\n",
    "# (45.23, 'ACME'), (205.55, 'IBM'),\n",
    "# (612.78, 'AAPL')\n",
    "prices_sorted"
   ]
  },
  {
   "cell_type": "code",
   "execution_count": 95,
   "id": "2ca0f466-bb90-4178-835f-dfb52490852a",
   "metadata": {},
   "outputs": [
    {
     "name": "stdout",
     "output_type": "stream",
     "text": [
      "(10.75, 'FB')\n"
     ]
    }
   ],
   "source": [
    "prices_and_names = zip(prices.values(), prices.keys())\n",
    "print(min(prices_and_names)) # OK"
   ]
  },
  {
   "cell_type": "code",
   "execution_count": 96,
   "id": "db5e4697-b667-43a4-bad0-aef75a54f5fc",
   "metadata": {},
   "outputs": [
    {
     "ename": "ValueError",
     "evalue": "max() arg is an empty sequence",
     "output_type": "error",
     "traceback": [
      "\u001b[1;31m---------------------------------------------------------------------------\u001b[0m",
      "\u001b[1;31mValueError\u001b[0m                                Traceback (most recent call last)",
      "Input \u001b[1;32mIn [96]\u001b[0m, in \u001b[0;36m<cell line: 1>\u001b[1;34m()\u001b[0m\n\u001b[1;32m----> 1\u001b[0m \u001b[38;5;28mprint\u001b[39m(\u001b[38;5;28;43mmax\u001b[39;49m\u001b[43m(\u001b[49m\u001b[43mprices_and_names\u001b[49m\u001b[43m)\u001b[49m)\n",
      "\u001b[1;31mValueError\u001b[0m: max() arg is an empty sequence"
     ]
    }
   ],
   "source": [
    "print(max(prices_and_names)) # ValueError: max() arg is an empty sequence"
   ]
  },
  {
   "cell_type": "code",
   "execution_count": 97,
   "id": "e1cf5bec-934c-4ed2-b77e-dba2e6f3a6f3",
   "metadata": {},
   "outputs": [
    {
     "data": {
      "text/plain": [
       "'AAPL'"
      ]
     },
     "execution_count": 98,
     "metadata": {},
     "output_type": "execute_result"
    }
   ],
   "source": [
    "min(prices) # Вернет 'AAPL'\n",
    "max(prices) # Вернет 'IBM'"
   ]
  },
  {
   "cell_type": "code",
   "execution_count": 101,
   "id": "bf8d312e-149c-43f0-85c5-e2baeb718c3b",
   "metadata": {},
   "outputs": [
    {
     "data": {
      "text/plain": [
       "612.78"
      ]
     },
     "execution_count": 101,
     "metadata": {},
     "output_type": "execute_result"
    }
   ],
   "source": [
    "min(prices.values()) # Вернет 10.75\n",
    "max(prices.values()) # Вернет 612.78"
   ]
  },
  {
   "cell_type": "code",
   "execution_count": 102,
   "id": "5b473a6b-e9bc-40e1-8d0c-4b912e8827e5",
   "metadata": {},
   "outputs": [
    {
     "data": {
      "text/plain": [
       "'AAPL'"
      ]
     },
     "execution_count": 102,
     "metadata": {},
     "output_type": "execute_result"
    }
   ],
   "source": [
    "min(prices, key=lambda k: prices[k]) # Вернет 'FB'\n",
    "max(prices, key=lambda k: prices[k]) # Вернет 'AAPL"
   ]
  },
  {
   "cell_type": "code",
   "execution_count": 103,
   "id": "6c403d0d-2f0f-4825-9808-73dea6bdf1ef",
   "metadata": {},
   "outputs": [
    {
     "data": {
      "text/plain": [
       "10.75"
      ]
     },
     "execution_count": 103,
     "metadata": {},
     "output_type": "execute_result"
    }
   ],
   "source": [
    "min_value = prices[min(prices, key=lambda k: prices[k])]\n",
    "min_value"
   ]
  },
  {
   "cell_type": "code",
   "execution_count": 91,
   "id": "232ca1eb-adeb-4ed8-bd78-eed2611041cd",
   "metadata": {},
   "outputs": [
    {
     "data": {
      "text/plain": [
       "(45.23, 'ZZZ')"
      ]
     },
     "execution_count": 91,
     "metadata": {},
     "output_type": "execute_result"
    }
   ],
   "source": [
    "prices = { 'AAA' : 45.23, 'ZZZ': 45.23 }\n",
    "min(zip(prices.values(), prices.keys()))\n",
    "# (45.23, 'AAA')\n",
    "max(zip(prices.values(), prices.keys()))\n",
    "# (45.23, 'ZZZ')"
   ]
  },
  {
   "cell_type": "markdown",
   "id": "c58e31f0-b2e7-426d-8396-1cd801c2e88f",
   "metadata": {},
   "source": [
    "### 1.9. Поиск общих элементов в двух словарях"
   ]
  },
  {
   "cell_type": "code",
   "execution_count": 116,
   "id": "f3221628-3bde-4794-b878-5adbcc53d967",
   "metadata": {},
   "outputs": [],
   "source": [
    "a = {\n",
    " 'x' : 1,\n",
    " 'y' : 2,\n",
    " 'z' : 3\n",
    "}\n",
    "b = {\n",
    " 'w' : 10,\n",
    " 'x' : 11,\n",
    " 'y' : 2\n",
    "}"
   ]
  },
  {
   "cell_type": "code",
   "execution_count": 118,
   "id": "5baf31ed-7ac1-4965-b0e6-ca46eea57774",
   "metadata": {},
   "outputs": [
    {
     "data": {
      "text/plain": [
       "{'x', 'y'}"
      ]
     },
     "execution_count": 118,
     "metadata": {},
     "output_type": "execute_result"
    }
   ],
   "source": [
    "# Находим общие ключи\n",
    "a.keys() & b.keys() # { 'x', 'y' }"
   ]
  },
  {
   "cell_type": "code",
   "execution_count": 120,
   "id": "906c3dcc-e2b9-4d2b-afd4-692b1272fb70",
   "metadata": {},
   "outputs": [
    {
     "data": {
      "text/plain": [
       "{'w'}"
      ]
     },
     "execution_count": 120,
     "metadata": {},
     "output_type": "execute_result"
    }
   ],
   "source": [
    "# Находим ключи, которые есть в a, но которых нет в b\n",
    "b.keys() - a.keys() # { 'z' }"
   ]
  },
  {
   "cell_type": "code",
   "execution_count": 121,
   "id": "e4b49aec-8db0-4417-b943-b314b21c4d50",
   "metadata": {},
   "outputs": [
    {
     "data": {
      "text/plain": [
       "{('y', 2)}"
      ]
     },
     "execution_count": 122,
     "metadata": {},
     "output_type": "execute_result"
    }
   ],
   "source": [
    "# Находим общие пары (key,value)\n",
    "a.items() & b.items() # { ('y', 2) }"
   ]
  },
  {
   "cell_type": "code",
   "execution_count": 124,
   "id": "1515e6ec-1456-4916-b725-ee7c188ad3a3",
   "metadata": {},
   "outputs": [
    {
     "data": {
      "text/plain": [
       "{'x': 1, 'y': 2}"
      ]
     },
     "execution_count": 124,
     "metadata": {},
     "output_type": "execute_result"
    }
   ],
   "source": [
    "# Создаем новый словарь, из которого удалены некоторые ключи\n",
    "c = {key:a[key] for key in a.keys() - {'z', 'w'}}\n",
    "# c – это {'x': 1, 'y': 2}\n",
    "c"
   ]
  },
  {
   "cell_type": "markdown",
   "id": "bccf2a71-3d6a-4fa9-a073-928c86088e81",
   "metadata": {},
   "source": [
    "### 1.10. Удаление дубликатов из последовательности с сохранением порядка элементов"
   ]
  },
  {
   "cell_type": "code",
   "execution_count": 18,
   "id": "a112441c-4b1a-4d04-aacd-904c604c3186",
   "metadata": {},
   "outputs": [],
   "source": [
    "def dedupe(items):\n",
    "    seen = set()\n",
    "    for item in items:\n",
    "        if item not in seen:\n",
    "            yield item\n",
    "            seen.add(item)"
   ]
  },
  {
   "cell_type": "code",
   "execution_count": 19,
   "id": "dfe6d6a1-c775-4efd-9bb4-3112565b35fd",
   "metadata": {},
   "outputs": [
    {
     "data": {
      "text/plain": [
       "[1, 5, 2, 9, 10]"
      ]
     },
     "execution_count": 19,
     "metadata": {},
     "output_type": "execute_result"
    }
   ],
   "source": [
    "a = [1, 5, 2, 1, 9, 1, 5, 10]\n",
    "list(dedupe(a))"
   ]
  },
  {
   "cell_type": "code",
   "execution_count": 20,
   "id": "d5072ac7-cd64-4e4e-a7b3-b671f029f819",
   "metadata": {},
   "outputs": [],
   "source": [
    "def dedupe(items, key=None):\n",
    "    seen = set()\n",
    "    for item in items:\n",
    "        val = item if key is None else key(item)\n",
    "        if val not in seen:\n",
    "            yield item\n",
    "            seen.add(val)"
   ]
  },
  {
   "cell_type": "code",
   "execution_count": 22,
   "id": "4ea192b6-139b-4cbb-8df6-24960fd90ffd",
   "metadata": {},
   "outputs": [],
   "source": [
    "a = [{'x':1, 'y':2}, {'x':1, 'y':3}, {'x':1, 'y':2}, {'x':2, 'y':4}]"
   ]
  },
  {
   "cell_type": "code",
   "execution_count": 23,
   "id": "2e680339-34f6-4bf7-a4fa-c50814343091",
   "metadata": {},
   "outputs": [
    {
     "data": {
      "text/plain": [
       "[{'x': 1, 'y': 2}, {'x': 1, 'y': 3}, {'x': 2, 'y': 4}]"
      ]
     },
     "execution_count": 23,
     "metadata": {},
     "output_type": "execute_result"
    }
   ],
   "source": [
    "list(dedupe(a, key=lambda d: (d['x'],d['y'])))"
   ]
  },
  {
   "cell_type": "code",
   "execution_count": 24,
   "id": "feb04dc4-85df-40bb-92b0-e2d5d9f4f258",
   "metadata": {},
   "outputs": [
    {
     "data": {
      "text/plain": [
       "[{'x': 1, 'y': 2}, {'x': 2, 'y': 4}]"
      ]
     },
     "execution_count": 24,
     "metadata": {},
     "output_type": "execute_result"
    }
   ],
   "source": [
    "list(dedupe(a, key=lambda d: d['x']))"
   ]
  },
  {
   "cell_type": "code",
   "execution_count": 26,
   "id": "d85a817e-20bc-489d-ba38-495fec08f7b1",
   "metadata": {},
   "outputs": [
    {
     "data": {
      "text/plain": [
       "[1, 2, 5, 9, 10]"
      ]
     },
     "execution_count": 26,
     "metadata": {},
     "output_type": "execute_result"
    }
   ],
   "source": [
    "a = [1, 5, 2, 1, 9, 1, 5, 10]\n",
    "list(set(a))"
   ]
  },
  {
   "cell_type": "code",
   "execution_count": null,
   "id": "97ca77da-9660-46a6-a46c-ef8a0945108d",
   "metadata": {},
   "outputs": [],
   "source": []
  }
 ],
 "metadata": {
  "kernelspec": {
   "display_name": "Python 3 (ipykernel)",
   "language": "python",
   "name": "python3"
  },
  "language_info": {
   "codemirror_mode": {
    "name": "ipython",
    "version": 3
   },
   "file_extension": ".py",
   "mimetype": "text/x-python",
   "name": "python",
   "nbconvert_exporter": "python",
   "pygments_lexer": "ipython3",
   "version": "3.9.12"
  }
 },
 "nbformat": 4,
 "nbformat_minor": 5
}
